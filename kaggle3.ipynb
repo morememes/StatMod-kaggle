{
 "cells": [
  {
   "cell_type": "code",
   "execution_count": 1,
   "id": "0476be7e-52e5-4722-93a2-5db272586c59",
   "metadata": {},
   "outputs": [],
   "source": [
    "import numpy as np\n",
    "import pandas as pd\n",
    "\n",
    "from sklearn.preprocessing import StandardScaler\n",
    "from sklearn.ensemble import GradientBoostingRegressor, RandomForestRegressor\n",
    "from sklearn.svm import SVR\n",
    "from sklearn.neighbors import KNeighborsRegressor, KNeighborsClassifier\n",
    "from sklearn.linear_model import LinearRegression, RidgeCV, Ridge, LassoCV, Lasso, ElasticNetCV, ElasticNet, LarsCV, Lars, OrthogonalMatchingPursuitCV, OrthogonalMatchingPursuit\n",
    "from sklearn.model_selection import cross_validate, GridSearchCV, RandomizedSearchCV, train_test_split\n",
    "from sklearn.feature_selection import f_classif, f_regression\n",
    "from sklearn.impute import KNNImputer, MissingIndicator\n",
    "from sklearn.decomposition import PCA\n",
    "from sklearn.metrics import mean_squared_error\n",
    "from sklearn.neural_network import MLPRegressor\n",
    "from utils import *\n",
    "\n",
    "import seaborn as sns\n",
    "import matplotlib.pyplot as plt\n",
    "\n",
    "from scipy.signal import periodogram"
   ]
  },
  {
   "cell_type": "code",
   "execution_count": 2,
   "id": "ab948ed5-cc44-4fb9-839e-4fe8f9b8d2ef",
   "metadata": {},
   "outputs": [],
   "source": [
    "df = pd.read_csv(\"kaggle_data/test_data.csv\", index_col = 'Id')"
   ]
  },
  {
   "cell_type": "code",
   "execution_count": 3,
   "id": "aec9428a-d996-430a-a1ba-2be0663627aa",
   "metadata": {},
   "outputs": [
    {
     "data": {
      "text/html": [
       "<div>\n",
       "<style scoped>\n",
       "    .dataframe tbody tr th:only-of-type {\n",
       "        vertical-align: middle;\n",
       "    }\n",
       "\n",
       "    .dataframe tbody tr th {\n",
       "        vertical-align: top;\n",
       "    }\n",
       "\n",
       "    .dataframe thead th {\n",
       "        text-align: right;\n",
       "    }\n",
       "</style>\n",
       "<table border=\"1\" class=\"dataframe\">\n",
       "  <thead>\n",
       "    <tr style=\"text-align: right;\">\n",
       "      <th></th>\n",
       "      <th>V1</th>\n",
       "      <th>V2</th>\n",
       "      <th>V3</th>\n",
       "      <th>V4</th>\n",
       "      <th>V5</th>\n",
       "      <th>V6</th>\n",
       "      <th>V7</th>\n",
       "      <th>V8</th>\n",
       "      <th>V9</th>\n",
       "      <th>V10</th>\n",
       "      <th>...</th>\n",
       "      <th>V991</th>\n",
       "      <th>V992</th>\n",
       "      <th>V993</th>\n",
       "      <th>V994</th>\n",
       "      <th>V995</th>\n",
       "      <th>V996</th>\n",
       "      <th>V997</th>\n",
       "      <th>V998</th>\n",
       "      <th>V999</th>\n",
       "      <th>V1000</th>\n",
       "    </tr>\n",
       "    <tr>\n",
       "      <th>Id</th>\n",
       "      <th></th>\n",
       "      <th></th>\n",
       "      <th></th>\n",
       "      <th></th>\n",
       "      <th></th>\n",
       "      <th></th>\n",
       "      <th></th>\n",
       "      <th></th>\n",
       "      <th></th>\n",
       "      <th></th>\n",
       "      <th></th>\n",
       "      <th></th>\n",
       "      <th></th>\n",
       "      <th></th>\n",
       "      <th></th>\n",
       "      <th></th>\n",
       "      <th></th>\n",
       "      <th></th>\n",
       "      <th></th>\n",
       "      <th></th>\n",
       "      <th></th>\n",
       "    </tr>\n",
       "  </thead>\n",
       "  <tbody>\n",
       "    <tr>\n",
       "      <th>1</th>\n",
       "      <td>94.111590</td>\n",
       "      <td>95.447586</td>\n",
       "      <td>96.726211</td>\n",
       "      <td>97.147048</td>\n",
       "      <td>95.613294</td>\n",
       "      <td>94.690922</td>\n",
       "      <td>94.402398</td>\n",
       "      <td>94.402826</td>\n",
       "      <td>96.813676</td>\n",
       "      <td>97.583465</td>\n",
       "      <td>...</td>\n",
       "      <td>75.776073</td>\n",
       "      <td>75.220229</td>\n",
       "      <td>74.968105</td>\n",
       "      <td>74.996296</td>\n",
       "      <td>75.955661</td>\n",
       "      <td>74.927599</td>\n",
       "      <td>75.935808</td>\n",
       "      <td>76.633174</td>\n",
       "      <td>75.871778</td>\n",
       "      <td>75.526783</td>\n",
       "    </tr>\n",
       "    <tr>\n",
       "      <th>2</th>\n",
       "      <td>93.550189</td>\n",
       "      <td>92.899123</td>\n",
       "      <td>93.828865</td>\n",
       "      <td>93.992301</td>\n",
       "      <td>93.863663</td>\n",
       "      <td>90.708771</td>\n",
       "      <td>89.491450</td>\n",
       "      <td>90.312653</td>\n",
       "      <td>89.964135</td>\n",
       "      <td>88.814115</td>\n",
       "      <td>...</td>\n",
       "      <td>107.392628</td>\n",
       "      <td>107.080932</td>\n",
       "      <td>108.455568</td>\n",
       "      <td>108.379854</td>\n",
       "      <td>109.553019</td>\n",
       "      <td>110.370786</td>\n",
       "      <td>110.159546</td>\n",
       "      <td>110.197563</td>\n",
       "      <td>109.423087</td>\n",
       "      <td>109.013025</td>\n",
       "    </tr>\n",
       "    <tr>\n",
       "      <th>3</th>\n",
       "      <td>78.232418</td>\n",
       "      <td>77.831144</td>\n",
       "      <td>76.367381</td>\n",
       "      <td>75.668888</td>\n",
       "      <td>74.772650</td>\n",
       "      <td>76.110550</td>\n",
       "      <td>76.986616</td>\n",
       "      <td>77.900798</td>\n",
       "      <td>78.214454</td>\n",
       "      <td>78.082119</td>\n",
       "      <td>...</td>\n",
       "      <td>121.967944</td>\n",
       "      <td>121.743296</td>\n",
       "      <td>122.756937</td>\n",
       "      <td>124.235713</td>\n",
       "      <td>123.320927</td>\n",
       "      <td>123.518787</td>\n",
       "      <td>123.016570</td>\n",
       "      <td>123.491181</td>\n",
       "      <td>123.600083</td>\n",
       "      <td>121.741557</td>\n",
       "    </tr>\n",
       "    <tr>\n",
       "      <th>4</th>\n",
       "      <td>90.255867</td>\n",
       "      <td>89.252764</td>\n",
       "      <td>89.493121</td>\n",
       "      <td>88.417598</td>\n",
       "      <td>88.189119</td>\n",
       "      <td>87.339292</td>\n",
       "      <td>87.986488</td>\n",
       "      <td>88.426919</td>\n",
       "      <td>89.215305</td>\n",
       "      <td>89.568456</td>\n",
       "      <td>...</td>\n",
       "      <td>77.651958</td>\n",
       "      <td>77.843225</td>\n",
       "      <td>76.443649</td>\n",
       "      <td>78.652677</td>\n",
       "      <td>78.733839</td>\n",
       "      <td>78.235345</td>\n",
       "      <td>77.080901</td>\n",
       "      <td>76.131494</td>\n",
       "      <td>76.926619</td>\n",
       "      <td>76.474487</td>\n",
       "    </tr>\n",
       "    <tr>\n",
       "      <th>5</th>\n",
       "      <td>92.370024</td>\n",
       "      <td>93.562420</td>\n",
       "      <td>92.227375</td>\n",
       "      <td>91.247307</td>\n",
       "      <td>91.441921</td>\n",
       "      <td>89.850272</td>\n",
       "      <td>90.941352</td>\n",
       "      <td>90.638395</td>\n",
       "      <td>90.179268</td>\n",
       "      <td>90.506362</td>\n",
       "      <td>...</td>\n",
       "      <td>102.955832</td>\n",
       "      <td>103.511776</td>\n",
       "      <td>102.660809</td>\n",
       "      <td>103.051544</td>\n",
       "      <td>103.788691</td>\n",
       "      <td>104.220779</td>\n",
       "      <td>104.676239</td>\n",
       "      <td>104.221633</td>\n",
       "      <td>103.852102</td>\n",
       "      <td>103.453873</td>\n",
       "    </tr>\n",
       "    <tr>\n",
       "      <th>...</th>\n",
       "      <td>...</td>\n",
       "      <td>...</td>\n",
       "      <td>...</td>\n",
       "      <td>...</td>\n",
       "      <td>...</td>\n",
       "      <td>...</td>\n",
       "      <td>...</td>\n",
       "      <td>...</td>\n",
       "      <td>...</td>\n",
       "      <td>...</td>\n",
       "      <td>...</td>\n",
       "      <td>...</td>\n",
       "      <td>...</td>\n",
       "      <td>...</td>\n",
       "      <td>...</td>\n",
       "      <td>...</td>\n",
       "      <td>...</td>\n",
       "      <td>...</td>\n",
       "      <td>...</td>\n",
       "      <td>...</td>\n",
       "      <td>...</td>\n",
       "    </tr>\n",
       "    <tr>\n",
       "      <th>196</th>\n",
       "      <td>7.355146</td>\n",
       "      <td>8.355152</td>\n",
       "      <td>7.763687</td>\n",
       "      <td>7.753607</td>\n",
       "      <td>7.231822</td>\n",
       "      <td>6.273910</td>\n",
       "      <td>5.826566</td>\n",
       "      <td>5.397638</td>\n",
       "      <td>7.265989</td>\n",
       "      <td>7.718448</td>\n",
       "      <td>...</td>\n",
       "      <td>-20.916596</td>\n",
       "      <td>-19.199647</td>\n",
       "      <td>-18.570786</td>\n",
       "      <td>-18.898271</td>\n",
       "      <td>-19.415560</td>\n",
       "      <td>-20.558731</td>\n",
       "      <td>-20.556333</td>\n",
       "      <td>-20.380476</td>\n",
       "      <td>-18.987759</td>\n",
       "      <td>-18.721879</td>\n",
       "    </tr>\n",
       "    <tr>\n",
       "      <th>197</th>\n",
       "      <td>46.999057</td>\n",
       "      <td>47.972433</td>\n",
       "      <td>48.022745</td>\n",
       "      <td>47.942510</td>\n",
       "      <td>48.638841</td>\n",
       "      <td>48.245891</td>\n",
       "      <td>46.871270</td>\n",
       "      <td>46.704847</td>\n",
       "      <td>45.654930</td>\n",
       "      <td>47.703929</td>\n",
       "      <td>...</td>\n",
       "      <td>12.491214</td>\n",
       "      <td>11.791708</td>\n",
       "      <td>10.064555</td>\n",
       "      <td>10.447119</td>\n",
       "      <td>11.080012</td>\n",
       "      <td>11.080545</td>\n",
       "      <td>10.775786</td>\n",
       "      <td>10.511825</td>\n",
       "      <td>9.868243</td>\n",
       "      <td>10.155087</td>\n",
       "    </tr>\n",
       "    <tr>\n",
       "      <th>198</th>\n",
       "      <td>18.117520</td>\n",
       "      <td>17.935989</td>\n",
       "      <td>18.211744</td>\n",
       "      <td>18.709620</td>\n",
       "      <td>18.901795</td>\n",
       "      <td>17.835433</td>\n",
       "      <td>16.727459</td>\n",
       "      <td>16.190949</td>\n",
       "      <td>16.698970</td>\n",
       "      <td>18.216007</td>\n",
       "      <td>...</td>\n",
       "      <td>-16.089992</td>\n",
       "      <td>-15.846886</td>\n",
       "      <td>-17.365794</td>\n",
       "      <td>-16.085524</td>\n",
       "      <td>-15.498171</td>\n",
       "      <td>-15.000121</td>\n",
       "      <td>-13.583843</td>\n",
       "      <td>-13.462391</td>\n",
       "      <td>-12.758107</td>\n",
       "      <td>-14.398696</td>\n",
       "    </tr>\n",
       "    <tr>\n",
       "      <th>199</th>\n",
       "      <td>92.006654</td>\n",
       "      <td>93.839792</td>\n",
       "      <td>93.503468</td>\n",
       "      <td>94.263429</td>\n",
       "      <td>93.137215</td>\n",
       "      <td>93.417944</td>\n",
       "      <td>92.206883</td>\n",
       "      <td>92.538725</td>\n",
       "      <td>93.277861</td>\n",
       "      <td>93.989742</td>\n",
       "      <td>...</td>\n",
       "      <td>31.023181</td>\n",
       "      <td>31.378945</td>\n",
       "      <td>33.592344</td>\n",
       "      <td>34.542976</td>\n",
       "      <td>34.640520</td>\n",
       "      <td>34.550720</td>\n",
       "      <td>35.895876</td>\n",
       "      <td>35.685872</td>\n",
       "      <td>36.101608</td>\n",
       "      <td>34.477148</td>\n",
       "    </tr>\n",
       "    <tr>\n",
       "      <th>200</th>\n",
       "      <td>83.798420</td>\n",
       "      <td>82.413277</td>\n",
       "      <td>83.359400</td>\n",
       "      <td>83.657498</td>\n",
       "      <td>83.726898</td>\n",
       "      <td>83.514578</td>\n",
       "      <td>83.407980</td>\n",
       "      <td>84.119752</td>\n",
       "      <td>83.227932</td>\n",
       "      <td>83.750920</td>\n",
       "      <td>...</td>\n",
       "      <td>53.913986</td>\n",
       "      <td>53.703187</td>\n",
       "      <td>52.194438</td>\n",
       "      <td>51.372822</td>\n",
       "      <td>50.367839</td>\n",
       "      <td>48.695793</td>\n",
       "      <td>50.367960</td>\n",
       "      <td>49.103580</td>\n",
       "      <td>48.618360</td>\n",
       "      <td>49.126605</td>\n",
       "    </tr>\n",
       "  </tbody>\n",
       "</table>\n",
       "<p>200 rows × 1000 columns</p>\n",
       "</div>"
      ],
      "text/plain": [
       "            V1         V2         V3         V4         V5         V6  \\\n",
       "Id                                                                      \n",
       "1    94.111590  95.447586  96.726211  97.147048  95.613294  94.690922   \n",
       "2    93.550189  92.899123  93.828865  93.992301  93.863663  90.708771   \n",
       "3    78.232418  77.831144  76.367381  75.668888  74.772650  76.110550   \n",
       "4    90.255867  89.252764  89.493121  88.417598  88.189119  87.339292   \n",
       "5    92.370024  93.562420  92.227375  91.247307  91.441921  89.850272   \n",
       "..         ...        ...        ...        ...        ...        ...   \n",
       "196   7.355146   8.355152   7.763687   7.753607   7.231822   6.273910   \n",
       "197  46.999057  47.972433  48.022745  47.942510  48.638841  48.245891   \n",
       "198  18.117520  17.935989  18.211744  18.709620  18.901795  17.835433   \n",
       "199  92.006654  93.839792  93.503468  94.263429  93.137215  93.417944   \n",
       "200  83.798420  82.413277  83.359400  83.657498  83.726898  83.514578   \n",
       "\n",
       "            V7         V8         V9        V10  ...        V991        V992  \\\n",
       "Id                                               ...                           \n",
       "1    94.402398  94.402826  96.813676  97.583465  ...   75.776073   75.220229   \n",
       "2    89.491450  90.312653  89.964135  88.814115  ...  107.392628  107.080932   \n",
       "3    76.986616  77.900798  78.214454  78.082119  ...  121.967944  121.743296   \n",
       "4    87.986488  88.426919  89.215305  89.568456  ...   77.651958   77.843225   \n",
       "5    90.941352  90.638395  90.179268  90.506362  ...  102.955832  103.511776   \n",
       "..         ...        ...        ...        ...  ...         ...         ...   \n",
       "196   5.826566   5.397638   7.265989   7.718448  ...  -20.916596  -19.199647   \n",
       "197  46.871270  46.704847  45.654930  47.703929  ...   12.491214   11.791708   \n",
       "198  16.727459  16.190949  16.698970  18.216007  ...  -16.089992  -15.846886   \n",
       "199  92.206883  92.538725  93.277861  93.989742  ...   31.023181   31.378945   \n",
       "200  83.407980  84.119752  83.227932  83.750920  ...   53.913986   53.703187   \n",
       "\n",
       "           V993        V994        V995        V996        V997        V998  \\\n",
       "Id                                                                            \n",
       "1     74.968105   74.996296   75.955661   74.927599   75.935808   76.633174   \n",
       "2    108.455568  108.379854  109.553019  110.370786  110.159546  110.197563   \n",
       "3    122.756937  124.235713  123.320927  123.518787  123.016570  123.491181   \n",
       "4     76.443649   78.652677   78.733839   78.235345   77.080901   76.131494   \n",
       "5    102.660809  103.051544  103.788691  104.220779  104.676239  104.221633   \n",
       "..          ...         ...         ...         ...         ...         ...   \n",
       "196  -18.570786  -18.898271  -19.415560  -20.558731  -20.556333  -20.380476   \n",
       "197   10.064555   10.447119   11.080012   11.080545   10.775786   10.511825   \n",
       "198  -17.365794  -16.085524  -15.498171  -15.000121  -13.583843  -13.462391   \n",
       "199   33.592344   34.542976   34.640520   34.550720   35.895876   35.685872   \n",
       "200   52.194438   51.372822   50.367839   48.695793   50.367960   49.103580   \n",
       "\n",
       "           V999       V1000  \n",
       "Id                           \n",
       "1     75.871778   75.526783  \n",
       "2    109.423087  109.013025  \n",
       "3    123.600083  121.741557  \n",
       "4     76.926619   76.474487  \n",
       "5    103.852102  103.453873  \n",
       "..          ...         ...  \n",
       "196  -18.987759  -18.721879  \n",
       "197    9.868243   10.155087  \n",
       "198  -12.758107  -14.398696  \n",
       "199   36.101608   34.477148  \n",
       "200   48.618360   49.126605  \n",
       "\n",
       "[200 rows x 1000 columns]"
      ]
     },
     "execution_count": 3,
     "metadata": {},
     "output_type": "execute_result"
    }
   ],
   "source": [
    "df "
   ]
  },
  {
   "cell_type": "code",
   "execution_count": 4,
   "id": "e3665721-b880-4763-b77b-8ea76a1786a4",
   "metadata": {},
   "outputs": [
    {
     "data": {
      "image/png": "[encoded data removed]",
      "text/plain": [
       "<Figure size 432x288 with 1 Axes>"
      ]
     },
     "metadata": {
      "needs_background": "light"
     },
     "output_type": "display_data"
    }
   ],
   "source": [
    "plt.plot(df.iloc[0]);"
   ]
  },
  {
   "cell_type": "code",
   "execution_count": 100,
   "id": "82fe097e-d89f-40ae-8543-a0378d12a76d",
   "metadata": {},
   "outputs": [],
   "source": [
    "def create_sequences(data, seq_length, y_len = 1):\n",
    "    xs = []\n",
    "    ys = []\n",
    "\n",
    "    for i in range(len(data)-(seq_length + y_len - 1)):\n",
    "        x = data[i:(i+seq_length)]\n",
    "        if y_len == 1:\n",
    "            y = data[i+seq_length]\n",
    "        else:\n",
    "            y = data[i+seq_length:i+seq_length+y_len]\n",
    "        xs.append(x)\n",
    "        ys.append(y)\n",
    "\n",
    "    return np.array(xs), np.array(ys)\n",
    "\n",
    "def get_deviation(arr: np.array) -> np.array:\n",
    "    return arr[1:] - arr[:-1]\n",
    "\n",
    "class MyPredictor:\n",
    "    def __init__(self, m = None):\n",
    "        self.m = m\n",
    "    \n",
    "    def train(self, ts: np.array, params: list) -> tuple:\n",
    "        ma = 10000000\n",
    "        m_best = None\n",
    "        \n",
    "        X, y, last_column = self.get_train_data(ts)\n",
    "        \n",
    "        for m in params:\n",
    "            assert m < X.shape[1]+1, f\"m = {m} должно быть меньше L = {X.shape[1]}!\"\n",
    "            X_temp = X.T[-m:].T\n",
    "            means = np.mean(X_temp, axis = 1)\n",
    "            preds = means + last_column\n",
    "            mse_error = ((y - preds)**2).mean()\n",
    "            if mse_error < ma:\n",
    "                m_best = m\n",
    "                ma = mse_error\n",
    "        self.m = m_best\n",
    "        return (m_best, ma)\n",
    "\n",
    "    def predict(self, X: np.array) -> np.array:\n",
    "        assert self.m is not None, \"Метод не обучен!\"\n",
    "        last_column = X.T[-1].T\n",
    "        X = MyPredictor.to_deviation(X)\n",
    "        X_temp = X.T[-self.m:].T\n",
    "        means = np.mean(X_temp, axis = 1)\n",
    "        return means + last_column\n",
    "        \n",
    "    def get_train_data(self, ts: np.array) -> tuple:\n",
    "        X_temp, y = create_sequences(ts, L)\n",
    "        X = MyPredictor.to_deviation(X_temp)\n",
    "        return (X, y, X_temp.T[-1].T)\n",
    "    \n",
    "    @staticmethod\n",
    "    def to_deviation(X: np.array) -> np.array:\n",
    "        res = [get_deviation(X[i]) for i in range(X.shape[0])]\n",
    "        return np.array(res)"
   ]
  },
  {
   "cell_type": "code",
   "execution_count": 121,
   "id": "ea944eb6-d510-4fc9-b286-8e66a1bf1456",
   "metadata": {},
   "outputs": [],
   "source": [
    "# ===================================================\n",
    "# ===================     BASE    ===================\n",
    "# ===================================================\n",
    "# def forecast_block(ts: pd.Series, L: int) -> np.array:\n",
    "#     predictor = MyPredictor()\n",
    "#     train = ts.to_numpy()\n",
    "#     predictor.train(train, list(range(2, L)))\n",
    "#     # print(L, predictor.m)\n",
    "#     value = predictor.predict(np.array([train[-L:]]))[0]\n",
    "#     res = np.zeros(100) + value\n",
    "#     return res\n",
    "\n",
    "### BEST RESULT\n",
    "def forecast_block(ts: pd.Series, L: int) -> np.array:\n",
    "    train = ts.to_numpy()\n",
    "    nn = Ridge() \n",
    "    X, y = create_sequences(train, L, 1)\n",
    "    nn.fit(X, y)\n",
    "    # print(nn.alpha_)\n",
    "    value = nn.predict(np.array([train[-L:]]))[0]\n",
    "    res = np.zeros(100) + value\n",
    "    return res"
   ]
  },
  {
   "cell_type": "code",
   "execution_count": 109,
   "id": "b76027b6-4993-4ba4-b885-8eddb59506e2",
   "metadata": {
    "tags": []
   },
   "outputs": [
    {
     "data": {
      "application/vnd.jupyter.widget-view+json": {
       "model_id": "5905fa61bdde4523bbfb25bfa1b51a90",
       "version_major": 2,
       "version_minor": 0
      },
      "text/plain": [
       "0it [00:00, ?it/s]"
      ]
     },
     "metadata": {},
     "output_type": "display_data"
    }
   ],
   "source": [
    "## ANSWER GENERATION CELL\n",
    "\n",
    "L = 10\n",
    "ans = []\n",
    "new_index = []\n",
    "outline = list(map(lambda x: '_' + str(x), list(range(1, 101)))) #\n",
    "for inx, row in tqdm(df.iterrows()):\n",
    "    res = forecast_block(row, L)\n",
    "    ans.append(res)\n",
    "    new_index += list(map(lambda x: str(inx) + x, outline)) #\n",
    "answers_array = np.array(ans).reshape(-1)"
   ]
  },
  {
   "cell_type": "code",
   "execution_count": 110,
   "id": "2e34cbd0-2c4c-40fb-92df-62d5f9791592",
   "metadata": {},
   "outputs": [],
   "source": [
    "answers = pd.DataFrame(answers_array, columns = ['Predicted'], index = pd.Index(new_index, name = 'Id'))\n",
    "answers.to_csv('answers.csv')"
   ]
  },
  {
   "cell_type": "markdown",
   "id": "89f46c98-d25e-4dda-8127-e9c9cc916b70",
   "metadata": {},
   "source": [
    "# Реальные тесты"
   ]
  },
  {
   "cell_type": "code",
   "execution_count": 115,
   "id": "179218cf-005e-4e15-89bd-77438e20b1c4",
   "metadata": {},
   "outputs": [
    {
     "data": {
      "text/plain": [
       "(20000,)"
      ]
     },
     "execution_count": 115,
     "metadata": {},
     "output_type": "execute_result"
    }
   ],
   "source": [
    "train, test = df.iloc[:, :900], df.iloc[:, 900:]\n",
    "test = test.to_numpy()\n",
    "test = test.reshape(-1)\n",
    "test.shape"
   ]
  },
  {
   "cell_type": "code",
   "execution_count": 122,
   "id": "5aa33398-e419-456b-a5d0-e77f58bc0625",
   "metadata": {},
   "outputs": [
    {
     "data": {
      "application/vnd.jupyter.widget-view+json": {
       "model_id": "2e63f87b59a9457f8c9a87d9fd723205",
       "version_major": 2,
       "version_minor": 0
      },
      "text/plain": [
       "  0%|          | 0/10 [00:00<?, ?it/s]"
      ]
     },
     "metadata": {},
     "output_type": "display_data"
    },
    {
     "data": {
      "text/plain": [
       "(3, 8.344650377594009)"
      ]
     },
     "execution_count": 122,
     "metadata": {},
     "output_type": "execute_result"
    }
   ],
   "source": [
    "lL = np.arange(3, 500, 50)\n",
    "ans = []\n",
    "best_error = 1000000000000000\n",
    "best_L = None\n",
    "for L in tqdm(lL):\n",
    "    ans = []\n",
    "    for inx, row in train.iterrows():\n",
    "        res = forecast_block(row, L)\n",
    "        ans.append(res)\n",
    "    answers_array = np.array(ans)\n",
    "    #print(answers_array.shape)\n",
    "    answers_array = answers_array.reshape(-1)\n",
    "    error = mean_squared_error(answers_array, test, squared=False)\n",
    "    if error < best_error:\n",
    "        best_L = L\n",
    "        best_error = error\n",
    "best_L, best_error"
   ]
  },
  {
   "cell_type": "code",
   "execution_count": 96,
   "id": "07664c97-37f0-4e02-ba75-e3dd36ef23ab",
   "metadata": {},
   "outputs": [
    {
     "data": {
      "application/vnd.jupyter.widget-view+json": {
       "model_id": "2f06450d4afe4b5b81efd287c5fa32b5",
       "version_major": 2,
       "version_minor": 0
      },
      "text/plain": [
       "0it [00:00, ?it/s]"
      ]
     },
     "metadata": {},
     "output_type": "display_data"
    }
   ],
   "source": [
    "L = 200\n",
    "ans = []\n",
    "for inx, row in tqdm(train.iterrows()):\n",
    "    #print(inx)\n",
    "    res = forecast_block(row, L)\n",
    "    ans.append(res)\n",
    "answers_array = np.array(ans)"
   ]
  },
  {
   "cell_type": "code",
   "execution_count": 97,
   "id": "66a86aac-d1f3-405f-a026-0a681e16a93a",
   "metadata": {},
   "outputs": [
    {
     "data": {
      "text/plain": [
       "(20000,)"
      ]
     },
     "execution_count": 97,
     "metadata": {},
     "output_type": "execute_result"
    }
   ],
   "source": [
    "answers_array = answers_array.reshape(-1)\n",
    "answers_array.shape"
   ]
  },
  {
   "cell_type": "code",
   "execution_count": 98,
   "id": "a9b12f78-3dc1-4066-93dc-c951998f8c83",
   "metadata": {},
   "outputs": [
    {
     "data": {
      "text/plain": [
       "array([89.30513886, 89.30513886, 89.30513886, ..., 71.91022987,\n",
       "       71.91022987, 71.91022987])"
      ]
     },
     "execution_count": 98,
     "metadata": {},
     "output_type": "execute_result"
    }
   ],
   "source": [
    "answers_array"
   ]
  },
  {
   "cell_type": "code",
   "execution_count": 99,
   "id": "868d4bcd-91af-4e7f-b435-fa90756908c7",
   "metadata": {},
   "outputs": [
    {
     "data": {
      "text/plain": [
       "8.444043484498469"
      ]
     },
     "execution_count": 99,
     "metadata": {},
     "output_type": "execute_result"
    }
   ],
   "source": [
    "mean_squared_error(answers_array, test, squared=False)"
   ]
  },
  {
   "cell_type": "code",
   "execution_count": 78,
   "id": "bf4e3829-bc2a-4b54-9c6b-c3d6665b156c",
   "metadata": {},
   "outputs": [
    {
     "data": {
      "text/plain": [
       "array([89.92264872, 89.92264872, 89.92264872, 89.92264872, 89.92264872,\n",
       "       89.92264872, 89.92264872, 89.92264872, 89.92264872, 89.92264872,\n",
       "       89.92264872, 89.92264872, 89.92264872, 89.92264872, 89.92264872,\n",
       "       89.92264872, 89.92264872, 89.92264872, 89.92264872, 89.92264872,\n",
       "       89.92264872, 89.92264872, 89.92264872, 89.92264872, 89.92264872,\n",
       "       89.92264872, 89.92264872, 89.92264872, 89.92264872, 89.92264872,\n",
       "       89.92264872, 89.92264872, 89.92264872, 89.92264872, 89.92264872,\n",
       "       89.92264872, 89.92264872, 89.92264872, 89.92264872, 89.92264872,\n",
       "       89.92264872, 89.92264872, 89.92264872, 89.92264872, 89.92264872,\n",
       "       89.92264872, 89.92264872, 89.92264872, 89.92264872, 89.92264872,\n",
       "       89.92264872, 89.92264872, 89.92264872, 89.92264872, 89.92264872,\n",
       "       89.92264872, 89.92264872, 89.92264872, 89.92264872, 89.92264872,\n",
       "       89.92264872, 89.92264872, 89.92264872, 89.92264872, 89.92264872,\n",
       "       89.92264872, 89.92264872, 89.92264872, 89.92264872, 89.92264872,\n",
       "       89.92264872, 89.92264872, 89.92264872, 89.92264872, 89.92264872,\n",
       "       89.92264872, 89.92264872, 89.92264872, 89.92264872, 89.92264872,\n",
       "       89.92264872, 89.92264872, 89.92264872, 89.92264872, 89.92264872,\n",
       "       89.92264872, 89.92264872, 89.92264872, 89.92264872, 89.92264872,\n",
       "       89.92264872, 89.92264872, 89.92264872, 89.92264872, 89.92264872,\n",
       "       89.92264872, 89.92264872, 89.92264872, 89.92264872, 89.92264872])"
      ]
     },
     "execution_count": 78,
     "metadata": {},
     "output_type": "execute_result"
    }
   ],
   "source": [
    "answers_array[:100]"
   ]
  },
  {
   "cell_type": "code",
   "execution_count": null,
   "id": "b34e3949-ea0a-484e-984d-3dd796faeae4",
   "metadata": {},
   "outputs": [],
   "source": []
  }
 ],
 "metadata": {
  "kernelspec": {
   "display_name": "Python 3 (ipykernel)",
   "language": "python",
   "name": "python3"
  },
  "language_info": {
   "codemirror_mode": {
    "name": "ipython",
    "version": 3
   },
   "file_extension": ".py",
   "mimetype": "text/x-python",
   "name": "python",
   "nbconvert_exporter": "python",
   "pygments_lexer": "ipython3",
   "version": "3.7.11"
  }
 },
 "nbformat": 4,
 "nbformat_minor": 5
}
