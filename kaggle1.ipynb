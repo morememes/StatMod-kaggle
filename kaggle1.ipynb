{
 "cells": [
  {
   "cell_type": "code",
   "execution_count": 18,
   "id": "129d5f01-6add-4638-84b9-465172eb5e23",
   "metadata": {},
   "outputs": [],
   "source": [
    "import warnings\n",
    "warnings.filterwarnings('ignore')\n",
    "\n",
    "from utils import *\n",
    "import numpy as np\n",
    "import pandas as pd\n",
    "\n",
    "from sklearn.ensemble import GradientBoostingClassifier, RandomForestClassifier\n",
    "from sklearn.preprocessing import StandardScaler\n",
    "from sklearn.svm import SVC\n",
    "from sklearn.model_selection import cross_validate, GridSearchCV, RandomizedSearchCV\n",
    "from sklearn.impute import KNNImputer, MissingIndicator\n",
    "from sklearn.feature_selection import mutual_info_classif, f_classif\n",
    "\n",
    "import seaborn as sns\n",
    "import matplotlib.pyplot as plt\n",
    "\n",
    "from scipy import stats"
   ]
  },
  {
   "cell_type": "code",
   "execution_count": 2,
   "id": "44d19d59-69df-4103-9a32-7ce1e24cfc35",
   "metadata": {},
   "outputs": [],
   "source": [
    "df = pd.read_csv(\"kaggle_data/predict_sex_train_utf.csv\", index_col = 'Id')\n",
    "df_test = pd.read_csv(\"kaggle_data/predict_sex_test_no_answers_no_mv.csv\", index_col = 'Id')"
   ]
  },
  {
   "cell_type": "code",
   "execution_count": 3,
   "id": "1eee5e09-3bed-4ea7-9b11-172b76ce1a04",
   "metadata": {},
   "outputs": [],
   "source": [
    "cols = ['Sex',\n",
    "    'НЕВЕРОТН 1  Невероятные приключения итальянцев в России',\n",
    " 'ТЕЛОХРАН 2  Телохранитель',\n",
    " 'КАВКАЗСК 3  Кавказская пленница или Новые приключения Шурика',\n",
    " 'ПТЫЙ_ЭЛЕ 4  Пятый элемент',\n",
    " 'ТЕРМИНАТ 5  Терминатор',\n",
    " 'КРЕПКИЙ 6  Крепкий орешек',\n",
    " 'ПОЛИЦ_АК 7  Полицейская академия',\n",
    " 'ЧУЖИЕ 8  Чужие',\n",
    " 'КРОКОДИЛ 9  Крокодил Данди',\n",
    " 'ЗДРАВСТВ 10  Здравствуйте  я ваша тетя!',\n",
    " 'ИРОНИ_СУ 11  Ирония судьбы или с легким паром',\n",
    " 'КРАСОТКА 12  Красотка',\n",
    " 'МАТРИЦА 13  Матрица',\n",
    " 'ТИТАНИК 14  Титаник',\n",
    " 'К_9 15  К-9',\n",
    " 'НАЗАД_В 16  Назад в будущее',\n",
    " 'САМА_ОБА 17  Сама обательная и привлекательна',\n",
    " 'БЛИЗНЕЦЫ 18  Близнецы',\n",
    " 'СОБАЧЬЕ 19  Собачье сердце',\n",
    " 'СОБАКА_Б 20  Собака Баскервилей',\n",
    " 'МЕСТО_ВС 21  Место встречи изменить нельзя',\n",
    " 'ГОРЕЦ 22  Горец',\n",
    " 'СЛУЖЕБНЫ 23  Служебный роман',\n",
    " 'ОС_РЫБ 25  Особенности национальной рыбалки',\n",
    " 'ОС_ОХОТЫ 26  Особенности национальной охоты',\n",
    " 'ДЕСТЬ_НЕ 27  Десть негритят',\n",
    " 'ТЕРМИНA2 28  Терминатор 2: судный день',\n",
    " 'ВОКЗАЛ_Д 29  Вокзал для двоих',\n",
    " 'ГЕНИЙ 30  Гений',\n",
    " 'ИВАН_ВАС 31  Иван Васильевич меняет профессию',\n",
    " 'РОККИ 32  Рокки',\n",
    " 'ОДИН_ДОМ 33  Один дома',\n",
    " 'САМОГОНЩ 34  Самогонщики',\n",
    " 'ОБЫКНОВЕ 35  Обыкновенное чудо',\n",
    " 'В_БОЙ_ИД 36  В бой идут одни старики',\n",
    " 'ПАРК_ЮРС 37  Парк Юрского периода',\n",
    " 'МОСКВА_С 38  Москва слезам не верит',\n",
    " 'БЕЛОЕ_СО 39  Белое солнце пустыни',\n",
    " 'ОДИН_ДМ2 41  Один дома 2: потерянный в Нью-Йорке',\n",
    " 'ХИЩНИК 42  Хищник',\n",
    " 'ВСПОМНИТ 43  Вспомнить все',\n",
    " 'ИНТЕРДЕВ 44  Интердевочка',\n",
    " 'ЧЕЛЮСТИ 45  Челюсти',\n",
    " 'ЛЕОН 46  Леон',\n",
    " 'ПОЛИЦ_ДС 47  Полицейский из детского сада',\n",
    " 'ОТ_ЗАКАТ 48  От заката до рассвета',\n",
    " 'АРМАГЕДД 50  Армагеддон',\n",
    " 'ДВОЙНОЙ 52  Двойной удар',\n",
    " 'МАСКА 53  Маска',\n",
    " 'БЛЕФ 54  Блеф',\n",
    " 'ДЕНЬ_СУР 56  День сурка',\n",
    " 'БЕГУЩИЙ 57  Бегущий человек',\n",
    " 'ТУТСИ 59  Тутси',\n",
    " 'НА_ДЕРИБ 60  На Дерибасовской хороша погода или на Брайтон Бич всегда идут дожди',\n",
    " 'ЧАРОДЕИ 62  Чародеи',\n",
    " 'ЗУБАСТИК 64  Зубастики',\n",
    " 'ИГРУШКА 65  Игрушка (Франция)',\n",
    " 'ВЫСОКИЙ 66  Высокий блондин в черном ботинке',\n",
    " 'КРЕПК_2 71  Крепкий орешек 2',\n",
    " 'МОЛЧАНИЕ 73  Молчание ягнят',\n",
    " 'ЭКИПАЖ 74  Экипаж',\n",
    " 'УКРОЩЕНИ 78  Укрощение строптивого',\n",
    " 'ПРОФЕССИ 79  Профессионал',\n",
    " 'В_ДЖАЗЕ 85  В джазе только девушки',\n",
    "        \n",
    " 'E_I__КЕЙ 104 E/I (тест Кейpси)',\n",
    " 'S_N__КЕЙ 105 S/N (тест Кейpси)',\n",
    " 'T_F__КЕЙ 106 T/F (тест Кейpси)',\n",
    " 'J_P__КЕЙ 107 J/P (тест Кейpси)',\n",
    " 'ВОЗPАСТ 139 Возpаст',\n",
    " 'ОБPАЗОВА 140 Обpазование',\n",
    " 'УPОВЕНЬ 141 Уpовень доходов']"
   ]
  },
  {
   "cell_type": "code",
   "execution_count": 4,
   "id": "86d1b29a-c7f6-41a6-80d9-454fa261a980",
   "metadata": {},
   "outputs": [
    {
     "data": {
      "text/plain": [
       "((1000, 72), (1859, 71))"
      ]
     },
     "execution_count": 4,
     "metadata": {},
     "output_type": "execute_result"
    }
   ],
   "source": [
    "df = df[cols]\n",
    "df_test = df_test[cols[1:]]\n",
    "df.shape, df_test.shape"
   ]
  },
  {
   "cell_type": "code",
   "execution_count": 5,
   "id": "0cda6721-640a-48b3-ba1e-2c21f70f841e",
   "metadata": {},
   "outputs": [],
   "source": [
    "# nan_columns_train = []\n",
    "# for column in df.columns[1:]:\n",
    "#     nan_ratio = np.isnan(df[column]).sum() / (len(df) - 1)\n",
    "#     if nan_ratio > 0.65:\n",
    "#         nan_columns_train.append(column)\n",
    "\n",
    "# nan_columns_test = []\n",
    "# for column in df_test.columns:\n",
    "#     nan_ratio = np.isnan(df_test[column]).sum() / len(df_test)\n",
    "#     if nan_ratio > 0.65:\n",
    "#         nan_columns_test.append(column)\n",
    "# for_drops = list(set(nan_columns_train + nan_columns_test))"
   ]
  },
  {
   "cell_type": "code",
   "execution_count": 6,
   "id": "e3a805e3-9a7c-4c22-888a-2ba1f0e4aecf",
   "metadata": {},
   "outputs": [],
   "source": [
    "# df = df.drop(for_drops, axis = 1)\n",
    "# df_test = df_test.drop(for_drops, axis = 1)\n",
    "\n",
    "# df.shape, df_test.shape"
   ]
  },
  {
   "cell_type": "code",
   "execution_count": 7,
   "id": "063fe14b-c097-477d-8ee3-80e5a85dc22c",
   "metadata": {},
   "outputs": [
    {
     "data": {
      "text/plain": [
       "72"
      ]
     },
     "execution_count": 7,
     "metadata": {},
     "output_type": "execute_result"
    }
   ],
   "source": [
    "df.shape[1]"
   ]
  },
  {
   "cell_type": "code",
   "execution_count": 20,
   "id": "f3ee1648-2ffd-4be3-8a60-6477fe03f20e",
   "metadata": {},
   "outputs": [
    {
     "name": "stdout",
     "output_type": "stream",
     "text": [
      "len means: 71\n"
     ]
    }
   ],
   "source": [
    "barrier = df.shape[1] - 1 - 7\n",
    "\n",
    "prep = Preprocessor(1, 0)\n",
    "prep_df = prep.fit_transform(df, 'Sex')\n",
    "X, y = prep_df.drop('Sex', axis = 1), prep_df.Sex\n",
    "y = y.astype(np.int64)\n",
    "X.iloc[:, :barrier] = np.round(X.iloc[:, :barrier])\n",
    "X.iloc[:, :barrier][X.iloc[:, :barrier] < 1] = 1\n",
    "X.iloc[:, :barrier][X.iloc[:, :barrier] > 12] = 12\n",
    "\n",
    "# X = prep.fill_gaps(X)\n",
    "# # imputer = KNNImputer(n_neighbors=5, weights = 'distance')\n",
    "# # X = imputer.fit_transform(X)\n",
    "# X[:, :100] = np.round(X[:, :100])\n",
    "film_means = np.round(X.iloc[:, :barrier].mean())\n",
    "test_means = X.iloc[:, barrier:].mean()\n",
    "X.iloc[:, :barrier] = X.iloc[:, :barrier].fillna(value = film_means)\n",
    "X.iloc[:, barrier:] = X.iloc[:, barrier:].fillna(value = test_means)"
   ]
  },
  {
   "cell_type": "code",
   "execution_count": 9,
   "id": "23ed2f8e-1c4e-4378-b441-4674babd97ff",
   "metadata": {},
   "outputs": [
    {
     "data": {
      "text/plain": [
       "(((890, 71), (890,)), (1000, 72))"
      ]
     },
     "execution_count": 9,
     "metadata": {},
     "output_type": "execute_result"
    }
   ],
   "source": [
    "(X.shape, y.shape), df.shape"
   ]
  },
  {
   "cell_type": "code",
   "execution_count": 10,
   "id": "d471efc6-835d-429d-8c3a-b1cc37b53f77",
   "metadata": {},
   "outputs": [],
   "source": [
    "scaler = StandardScaler()\n",
    "X = scaler.fit_transform(X)"
   ]
  },
  {
   "cell_type": "markdown",
   "id": "f439b728-dbfc-47d8-a962-8733d6922bb0",
   "metadata": {},
   "source": [
    "# GradientBoosting GridSearch"
   ]
  },
  {
   "cell_type": "code",
   "execution_count": 548,
   "id": "1944c32a-aafd-4d6a-9f6b-73c990d603e2",
   "metadata": {
    "tags": []
   },
   "outputs": [],
   "source": [
    "params = {\n",
    "    # \"loss\":[\"deviance\"],\n",
    "    # \"learning_rate\": [0.01, 0.1],\n",
    "    \"min_samples_split\": np.linspace(0.1, 0.5, 6),\n",
    "    \"min_samples_leaf\": np.linspace(0.1, 0.5, 6),\n",
    "    \"max_depth\": [1,2,3, 5, 8, 11, 14, 18, 22],\n",
    "    \"max_features\":[\"log2\",\"sqrt\"],\n",
    "    \"criterion\": [\"friedman_mse\",  \"squared_error\"],\n",
    "    \"subsample\":[0.5, 0.65, 0.8, 0.85, 0.9, 0.95, 1.0],\n",
    "    \"n_estimators\":[50, 100, 150, 200, 250]\n",
    "    }"
   ]
  },
  {
   "cell_type": "code",
   "execution_count": 549,
   "id": "b5cbd681-b9b3-4db3-b761-dee40c71cd4d",
   "metadata": {},
   "outputs": [
    {
     "name": "stdout",
     "output_type": "stream",
     "text": [
      "Fitting 10 folds for each of 1000 candidates, totalling 10000 fits\n"
     ]
    },
    {
     "data": {
      "text/plain": [
       "RandomizedSearchCV(cv=10, estimator=GradientBoostingClassifier(random_state=42),\n",
       "                   n_iter=1000, n_jobs=-1,\n",
       "                   param_distributions={'criterion': ['friedman_mse',\n",
       "                                                      'squared_error'],\n",
       "                                        'max_depth': [1, 2, 3, 5, 8, 11, 14, 18,\n",
       "                                                      22],\n",
       "                                        'max_features': ['log2', 'sqrt'],\n",
       "                                        'min_samples_leaf': array([0.1 , 0.18, 0.26, 0.34, 0.42, 0.5 ]),\n",
       "                                        'min_samples_split': array([0.1 , 0.18, 0.26, 0.34, 0.42, 0.5 ]),\n",
       "                                        'n_estimators': [50, 100, 150, 200,\n",
       "                                                         250],\n",
       "                                        'subsample': [0.5, 0.65, 0.8, 0.85, 0.9,\n",
       "                                                      0.95, 1.0]},\n",
       "                   verbose=1)"
      ]
     },
     "execution_count": 549,
     "metadata": {},
     "output_type": "execute_result"
    }
   ],
   "source": [
    "clf_gb = RandomizedSearchCV(GradientBoostingClassifier(random_state = 42), params, cv=10, n_jobs=-1, verbose=1, n_iter = 1000)\n",
    "clf_gb.fit(X, y)"
   ]
  },
  {
   "cell_type": "code",
   "execution_count": 550,
   "id": "205c4dfe-cbe7-4b97-9373-8c6be438df7c",
   "metadata": {},
   "outputs": [
    {
     "name": "stdout",
     "output_type": "stream",
     "text": [
      "{'subsample': 0.65, 'n_estimators': 150, 'min_samples_split': 0.5, 'min_samples_leaf': 0.1, 'max_features': 'sqrt', 'max_depth': 2, 'criterion': 'squared_error'}\n",
      "0.7752808988764045\n",
      "GradientBoostingClassifier(criterion='squared_error', max_depth=2,\n",
      "                           max_features='sqrt', min_samples_leaf=0.1,\n",
      "                           min_samples_split=0.5, n_estimators=150,\n",
      "                           random_state=42, subsample=0.65)\n"
     ]
    }
   ],
   "source": [
    "print(clf_gb.best_params_)\n",
    "print(clf_gb.best_score_)\n",
    "print(clf_gb.best_estimator_)"
   ]
  },
  {
   "cell_type": "code",
   "execution_count": 11,
   "id": "582f7c60-2a5d-4ba2-a51c-885f37538111",
   "metadata": {},
   "outputs": [],
   "source": [
    "kwargs = {'subsample': 0.65, 'n_estimators': 150, 'min_samples_split': 0.5, 'min_samples_leaf': 0.1, 'max_features': 'sqrt', 'max_depth': 2, 'criterion': 'squared_error'}"
   ]
  },
  {
   "cell_type": "markdown",
   "id": "d992293f-618f-4489-9ab6-e55a81365314",
   "metadata": {},
   "source": [
    "# Predict"
   ]
  },
  {
   "cell_type": "code",
   "execution_count": 21,
   "id": "219a6b6b-2329-4862-bfdb-27a0b8e09068",
   "metadata": {
    "tags": []
   },
   "outputs": [
    {
     "name": "stdout",
     "output_type": "stream",
     "text": [
      "Index(['E_I__КЕЙ 104 E/I (тест Кейpси)', 'S_N__КЕЙ 105 S/N (тест Кейpси)',\n",
      "       'T_F__КЕЙ 106 T/F (тест Кейpси)', 'J_P__КЕЙ 107 J/P (тест Кейpси)',\n",
      "       'ВОЗPАСТ 139 Возpаст', 'ОБPАЗОВА 140 Обpазование',\n",
      "       'УPОВЕНЬ 141 Уpовень доходов'],\n",
      "      dtype='object')\n"
     ]
    },
    {
     "data": {
      "text/plain": [
       "(1859, 71)"
      ]
     },
     "execution_count": 21,
     "metadata": {},
     "output_type": "execute_result"
    }
   ],
   "source": [
    "df_test = pd.read_csv(\"kaggle_data/predict_sex_test_no_answers_no_mv.csv\", index_col = 'Id')\n",
    "df_test = df_test[cols[1:]]\n",
    "# df_test = prep.transform(df_test, bTrain=False)\n",
    "# df_test= prep.fill_gaps(df_test)\n",
    "df_test_index = df_test.index\n",
    "print(df_test.iloc[:, barrier:].columns)\n",
    "df_test.iloc[:, :barrier] = np.round(df_test.iloc[:, :barrier])\n",
    "df_test.iloc[:, :barrier][df_test.iloc[:, :barrier] < 1] = 1\n",
    "df_test.iloc[:, :barrier][df_test.iloc[:, :barrier] > 12] = 12\n",
    "# nan_mask = indicator.transform(df_test)\n",
    "# df_test = imputer.transform(df_test)\n",
    "# df_test[nan_mask] = np.round(df_test[nan_mask])\n",
    "df_test.iloc[:, :barrier] = df_test.iloc[:, :barrier].fillna(value = film_means)\n",
    "df_test.iloc[:, barrier:] = df_test.iloc[:, barrier:].fillna(value = test_means)\n",
    "\n",
    "#df_test = df_test[:, selected_cols]\n",
    "df_test.shape"
   ]
  },
  {
   "cell_type": "code",
   "execution_count": null,
   "id": "ab40eeb7-f2d3-4734-a0f8-9e975171bb37",
   "metadata": {
    "tags": []
   },
   "outputs": [],
   "source": [
    "answers_array = clf_gb.best_estimator_.predict(df_test)\n",
    "answers_array = answers_array.astype(np.int64)"
   ]
  },
  {
   "cell_type": "code",
   "execution_count": 595,
   "id": "e50a15ab-7212-48b0-9e4a-000eca342359",
   "metadata": {},
   "outputs": [
    {
     "data": {
      "text/plain": [
       "array([2, 2, 2, ..., 1, 1, 1])"
      ]
     },
     "execution_count": 595,
     "metadata": {},
     "output_type": "execute_result"
    }
   ],
   "source": [
    "answers_array"
   ]
  },
  {
   "cell_type": "code",
   "execution_count": 596,
   "id": "ad2fbe91-8437-4507-bda6-079e3942e452",
   "metadata": {},
   "outputs": [
    {
     "data": {
      "text/plain": [
       "array([2, 2, 2, ..., 1, 1, 1])"
      ]
     },
     "execution_count": 596,
     "metadata": {},
     "output_type": "execute_result"
    }
   ],
   "source": [
    "answers_array"
   ]
  },
  {
   "cell_type": "code",
   "execution_count": 597,
   "id": "4bb4ec2f-2bc2-4eb5-932d-6e9dbc3bb749",
   "metadata": {},
   "outputs": [],
   "source": [
    "answers = pd.DataFrame(answers_array, columns = ['Sex'], index = df_test_index)\n",
    "answers.to_csv('answers.csv')"
   ]
  },
  {
   "cell_type": "code",
   "execution_count": 35,
   "id": "5e076644-8acd-4b8e-b5e1-026287daffb8",
   "metadata": {},
   "outputs": [],
   "source": [
    "asvm = clf_svm.best_estimator_.predict(df_test)\n",
    "arf = clf_rf.best_estimator_.predict(df_test)\n",
    "agb = clf_gb.best_estimator_.predict(df_test)"
   ]
  },
  {
   "cell_type": "code",
   "execution_count": 42,
   "id": "809ab577-7436-4e59-9418-660d8596d819",
   "metadata": {},
   "outputs": [],
   "source": [
    "atriple = np.round((asvm + arf + agb) / 3)"
   ]
  },
  {
   "cell_type": "code",
   "execution_count": 44,
   "id": "946eec33-2838-4da2-96ea-7abc7461dfd3",
   "metadata": {},
   "outputs": [
    {
     "data": {
      "text/plain": [
       "(269, 185, 85)"
      ]
     },
     "execution_count": 44,
     "metadata": {},
     "output_type": "execute_result"
    }
   ],
   "source": [
    "(atriple != asvm).sum(), (atriple != arf).sum(), (atriple != agb).sum()"
   ]
  },
  {
   "cell_type": "code",
   "execution_count": 49,
   "id": "60cb459a-5f21-4e01-bf79-8d8ad93ea1ba",
   "metadata": {},
   "outputs": [
    {
     "data": {
      "text/plain": [
       "array([2, 2, 2, ..., 1, 1, 2])"
      ]
     },
     "execution_count": 49,
     "metadata": {},
     "output_type": "execute_result"
    }
   ],
   "source": [
    "atriple = atriple.astype(np.int64)\n",
    "atriple"
   ]
  },
  {
   "cell_type": "code",
   "execution_count": 50,
   "id": "5ec23bf6-c283-4efc-a7bf-06151d404776",
   "metadata": {},
   "outputs": [],
   "source": [
    "answers = pd.DataFrame(atriple, columns = ['Sex'], index = df_test_index)\n",
    "answers.to_csv('answers.csv')"
   ]
  },
  {
   "cell_type": "code",
   "execution_count": null,
   "id": "0455fb5f-038d-43b4-9de5-d0bc6e51ba20",
   "metadata": {},
   "outputs": [],
   "source": []
  }
 ],
 "metadata": {
  "kernelspec": {
   "display_name": "Python 3 (ipykernel)",
   "language": "python",
   "name": "python3"
  },
  "language_info": {
   "codemirror_mode": {
    "name": "ipython",
    "version": 3
   },
   "file_extension": ".py",
   "mimetype": "text/x-python",
   "name": "python",
   "nbconvert_exporter": "python",
   "pygments_lexer": "ipython3",
   "version": "3.7.11"
  }
 },
 "nbformat": 4,
 "nbformat_minor": 5
}
